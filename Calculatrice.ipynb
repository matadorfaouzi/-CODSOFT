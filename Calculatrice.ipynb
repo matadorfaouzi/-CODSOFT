{
 "cells": [
  {
   "cell_type": "markdown",
   "id": "4145f040-2e9f-4683-ae56-b2f106078609",
   "metadata": {},
   "source": [
    "# TASK 2 : Calculator\n",
    "\n",
    "\n",
    " Design a simple calculator with basic arithmetic operations\r\n",
    " Prompt the user to input two numbers and an operation choc..\r\n",
    " Perform the calculation and display the result"
   ]
  },
  {
   "cell_type": "code",
   "execution_count": 4,
   "id": "e3802c89-87d4-43d6-91f0-67986a915572",
   "metadata": {
    "scrolled": true
   },
   "outputs": [],
   "source": [
    "import Calculatrice as cal"
   ]
  },
  {
   "cell_type": "code",
   "execution_count": 9,
   "id": "96f88579-f1c1-40ea-a03c-615a4dc00c14",
   "metadata": {},
   "outputs": [
    {
     "name": "stdin",
     "output_type": "stream",
     "text": [
      "Enter the first variable :  9\n",
      "Enter the Second variable :  8\n",
      "Enter the operation :  *\n"
     ]
    },
    {
     "name": "stdout",
     "output_type": "stream",
     "text": [
      "Check types validate\n",
      "Verification operation validate *\n",
      "72.0\n"
     ]
    }
   ],
   "source": [
    "m1 = input('Enter the first variable : ')\n",
    "m2 = input('Enter the Second variable : ')  \n",
    "m3 = input(\"Enter the operation : \") \n",
    "cal1 = cal.Calculatrice(m1, m2)   \n",
    "cal1.calcul(m3)"
   ]
  },
  {
   "cell_type": "code",
   "execution_count": null,
   "id": "4843d7e2-b03e-41dd-9020-8106543c1c7f",
   "metadata": {},
   "outputs": [],
   "source": [
    "OK"
   ]
  }
 ],
 "metadata": {
  "kernelspec": {
   "display_name": "Python 3 (ipykernel)",
   "language": "python",
   "name": "python3"
  },
  "language_info": {
   "codemirror_mode": {
    "name": "ipython",
    "version": 3
   },
   "file_extension": ".py",
   "mimetype": "text/x-python",
   "name": "python",
   "nbconvert_exporter": "python",
   "pygments_lexer": "ipython3",
   "version": "3.11.7"
  }
 },
 "nbformat": 4,
 "nbformat_minor": 5
}
